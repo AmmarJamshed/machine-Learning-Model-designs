{
 "cells": [
  {
   "cell_type": "code",
   "execution_count": 1,
   "id": "former-application",
   "metadata": {},
   "outputs": [
    {
     "ename": "SyntaxError",
     "evalue": "invalid syntax (<ipython-input-1-cfce04b6e917>, line 1)",
     "output_type": "error",
     "traceback": [
      "\u001b[1;36m  File \u001b[1;32m\"<ipython-input-1-cfce04b6e917>\"\u001b[1;36m, line \u001b[1;32m1\u001b[0m\n\u001b[1;33m    class sklearn.svm.SVR(*, kernel='rbf', degree=3, gamma='scale',\u001b[0m\n\u001b[1;37m                 ^\u001b[0m\n\u001b[1;31mSyntaxError\u001b[0m\u001b[1;31m:\u001b[0m invalid syntax\n"
     ]
    }
   ],
   "source": [
    "class sklearn.svm.SVR(*, kernel='rbf', degree=3, gamma='scale', \n",
    "coef0=0.0, tol=0.001, C=1.0, epsilon=0.1, shrinking=True, \n",
    "cache_size=200, verbose=False, max_iter=-1)"
   ]
  },
  {
   "cell_type": "code",
   "execution_count": 2,
   "id": "wrong-preservation",
   "metadata": {},
   "outputs": [],
   "source": [
    "from sklearn import datasets\n",
    "from sklearn.model_selection import train_test_split\n",
    "cancer_data = datasets.load_breast_cancer()\n",
    "X_train, X_test, y_train, y_test = train_test_split(cancer_data.data, cancer_data.target, test_size=0.4,random_state=109)"
   ]
  },
  {
   "cell_type": "code",
   "execution_count": 3,
   "id": "russian-opinion",
   "metadata": {},
   "outputs": [],
   "source": [
    " from sklearn import svm\n",
    "#create a classifier\n",
    "cls = svm.SVC(kernel=\"linear\")\n",
    " #train the model\n",
    "cls.fit(X_train,y_train)\n",
    "#predict the response\n",
    "pred = cls.predict(X_test)"
   ]
  },
  {
   "cell_type": "code",
   "execution_count": 4,
   "id": "lesser-quick",
   "metadata": {},
   "outputs": [
    {
     "name": "stdout",
     "output_type": "stream",
     "text": [
      "acuracy: 0.9649122807017544\n",
      "precision: 0.9642857142857143\n",
      "recall 0.9782608695652174\n",
      "              precision    recall  f1-score   support\n",
      "\n",
      "           0       0.97      0.94      0.96        90\n",
      "           1       0.96      0.98      0.97       138\n",
      "\n",
      "    accuracy                           0.96       228\n",
      "   macro avg       0.97      0.96      0.96       228\n",
      "weighted avg       0.96      0.96      0.96       228\n",
      "\n"
     ]
    }
   ],
   "source": [
    "from sklearn import metrics\n",
    "#accuracy\n",
    "print(\"acuracy:\", metrics.accuracy_score(y_test,y_pred=pred))\n",
    "#precision score\n",
    "print(\"precision:\", metrics.precision_score(y_test,y_pred=pred))\n",
    "#recall score\n",
    "print(\"recall\" , metrics.recall_score(y_test,y_pred=pred))\n",
    "print(metrics.classification_report(y_test, y_pred=pred))"
   ]
  },
  {
   "cell_type": "code",
   "execution_count": null,
   "id": "arabic-vampire",
   "metadata": {},
   "outputs": [],
   "source": []
  }
 ],
 "metadata": {
  "kernelspec": {
   "display_name": "Python 3",
   "language": "python",
   "name": "python3"
  },
  "language_info": {
   "codemirror_mode": {
    "name": "ipython",
    "version": 3
   },
   "file_extension": ".py",
   "mimetype": "text/x-python",
   "name": "python",
   "nbconvert_exporter": "python",
   "pygments_lexer": "ipython3",
   "version": "3.8.5"
  }
 },
 "nbformat": 4,
 "nbformat_minor": 5
}
